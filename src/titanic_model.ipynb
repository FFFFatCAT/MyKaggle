{
 "cells": [
  {
   "cell_type": "code",
   "execution_count": 1,
   "metadata": {},
   "outputs": [],
   "source": [
    "# 导入常用库\n",
    "import numpy as np\n",
    "import pandas as pd\n",
    "import matplotlib.pyplot as plt\n",
    "import seaborn as sns\n",
    "import warnings\n",
    "warnings.filterwarnings('ignore')\n",
    "%matplotlib inline\n",
    "# 设置sns样式\n",
    "# 样式控制：axes_style() and set_style()\n",
    "# 有5个seaborn的主题，适用于不同的应用和人群偏好：\n",
    "# darkgrid 黑色网格（默认）\n",
    "# whitegrid 白色网格\n",
    "# dark 黑色背景\n",
    "# white 白色背景\n",
    "# ticks 应该是四周都有刻度线的白背景\n",
    "sns.set(style='white',context='notebook',palette='muted')"
   ]
  },
  {
   "cell_type": "code",
   "execution_count": 3,
   "metadata": {},
   "outputs": [],
   "source": [
    "# 读取完成清理及特征工程的数据\n",
    "data_code = pd.read_excel(r'../data/titanic/data_factorized.xlsx')\n",
    "data_dummy = pd.read_excel(r'../data/titanic/data_dummy.xlsx')"
   ]
  },
  {
   "cell_type": "code",
   "execution_count": null,
   "metadata": {},
   "outputs": [],
   "source": []
  }
 ],
 "metadata": {
  "language_info": {
   "codemirror_mode": {
    "name": "ipython",
    "version": 3
   },
   "file_extension": ".py",
   "mimetype": "text/x-python",
   "name": "python",
   "nbconvert_exporter": "python",
   "pygments_lexer": "ipython3",
   "version": "3.6.10-final"
  },
  "orig_nbformat": 2,
  "kernelspec": {
   "name": "python361064bitdataconda38c3f5bb27df4ef8a601d9670838447b",
   "display_name": "Python 3.6.10 64-bit ('data': conda)"
  }
 },
 "nbformat": 4,
 "nbformat_minor": 2
}